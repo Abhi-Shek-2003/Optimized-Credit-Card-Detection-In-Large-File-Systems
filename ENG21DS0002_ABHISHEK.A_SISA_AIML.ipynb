{
 "cells": [
  {
   "cell_type": "markdown",
   "id": "bdf78482",
   "metadata": {},
   "source": [
    "# ASSIGNMENT (Problem Statement)\n",
    "## Python/ML Intern\n",
    "\n",
    "### Problem Statement\n",
    "1. There are a huge number of files in a system. Some files may have data more than 1 GB.\n",
    "2. Traverse through folders and files of a specific directory or folder. Read all files (text, document, PDF) and identify if any files contain credit card numbers.\n",
    "   - Note: Create sample files with credit card numbers and test with at least 50 files; 20% should contain valid credit card numbers.\n",
    "3. The algorithm should be optimized to scan files quickly while keeping CPU and memory consumption within 30%.\n",
    "\n",
    "---\n",
    "\n"
   ]
  },
  {
   "cell_type": "markdown",
   "id": "413f115e",
   "metadata": {},
   "source": [
    "# Solution\n",
    "\n",
    "## 1. File Creation and Zipping\n",
    "\n",
    "### Import Required Libraries"
   ]
  },
  {
   "cell_type": "code",
   "execution_count": 1,
   "id": "ca5ffe9a",
   "metadata": {},
   "outputs": [],
   "source": [
    "import os\n",
    "import random\n",
    "import string\n",
    "import zipfile\n"
   ]
  },
  {
   "cell_type": "markdown",
   "id": "e55f56f9",
   "metadata": {},
   "source": [
    "### Directory to Store Sample Files"
   ]
  },
  {
   "cell_type": "code",
   "execution_count": 2,
   "id": "aa31c6e6",
   "metadata": {},
   "outputs": [],
   "source": [
    "directory = 'test_files'\n"
   ]
  },
  {
   "cell_type": "markdown",
   "id": "dba7b314",
   "metadata": {},
   "source": [
    "### Sample Credit Card Patterns"
   ]
  },
  {
   "cell_type": "code",
   "execution_count": 3,
   "id": "eb1d5ea2",
   "metadata": {},
   "outputs": [],
   "source": [
    "valid_credit_cards = [\n",
    "    \"4539 1488 0343 6467\", \"4716 6017 4402 1937\", \"4485 2357 2346 1636\",\n",
    "    \"6011 1111 1111 1117\", \"6011 4432 3422 3456\", \"3782 822463 10005\",\n",
    "    \"3714 496353 98431\", \"3056 930902 5904\", \"3852 000002 32323\", \n",
    "    \"3530 111333 000000\", \"5555 5555 5555 4444\"\n",
    "]\n"
   ]
  },
  {
   "cell_type": "markdown",
   "id": "0871faf0",
   "metadata": {},
   "source": [
    "### Function to Generate Random Text Data"
   ]
  },
  {
   "cell_type": "code",
   "execution_count": 4,
   "id": "09683575",
   "metadata": {},
   "outputs": [],
   "source": [
    "def generate_random_text(size):\n",
    "    return ''.join(random.choices(string.ascii_letters + string.digits + ' ', k=size))\n"
   ]
  },
  {
   "cell_type": "markdown",
   "id": "840e2c30",
   "metadata": {},
   "source": [
    "### Function to Create Sample Files and Function to Zip the Directory"
   ]
  },
  {
   "cell_type": "code",
   "execution_count": 5,
   "id": "c39d9203",
   "metadata": {},
   "outputs": [
    {
     "name": "stdout",
     "output_type": "stream",
     "text": [
      "50 files created successfully in test_files\n",
      "Files zipped to test_files.zip\n"
     ]
    }
   ],
   "source": [
    "def create_sample_files(directory, num_files=50, cc_percentage=20):\n",
    "    if not os.path.exists(directory):\n",
    "        os.makedirs(directory)\n",
    "\n",
    "    num_files_with_cc = int(num_files * (cc_percentage / 100))\n",
    "    for i in range(1, num_files + 1):\n",
    "        filename = f\"file_{i}.txt\"\n",
    "        filepath = os.path.join(directory, filename)\n",
    "        \n",
    "        # Decide whether to insert a credit card number in the file\n",
    "        if i <= num_files_with_cc:\n",
    "            # Insert credit card number with some random text\n",
    "            content = generate_random_text(1000) + \"\\n\" + random.choice(valid_credit_cards) + \"\\n\" + generate_random_text(1000)\n",
    "        else:\n",
    "            # Insert only random text\n",
    "            content = generate_random_text(2000)\n",
    "        \n",
    "        # Write the content to the file\n",
    "        with open(filepath, 'w') as f:\n",
    "            f.write(content)\n",
    "\n",
    "    print(f\"{num_files} files created successfully in {directory}\")\n",
    "    \n",
    "# Function to zip the directory\n",
    "def zip_directory(directory, zip_file_path):\n",
    "    with zipfile.ZipFile(zip_file_path, 'w') as zip_file:\n",
    "        for foldername, subfolders, filenames in os.walk(directory):\n",
    "            for filename in filenames:\n",
    "                file_path = os.path.join(foldername, filename)\n",
    "                zip_file.write(file_path, os.path.relpath(file_path, directory))\n",
    "\n",
    "    print(f\"Files zipped to {zip_file_path}\")\n",
    "\n",
    "# Create 50 test files with 20% containing credit card numbers\n",
    "create_sample_files(directory)\n",
    "\n",
    "# Zip the test_files directory\n",
    "zip_directory(directory, 'test_files.zip')\n",
    "\n"
   ]
  },
  {
   "cell_type": "markdown",
   "id": "7fb2058d",
   "metadata": {},
   "source": [
    "### Link to download the sample generated text files\n"
   ]
  },
  {
   "cell_type": "code",
   "execution_count": 6,
   "id": "921fb2b9",
   "metadata": {},
   "outputs": [
    {
     "data": {
      "text/html": [
       "<a href='test_files.zip' target='_blank'>test_files.zip</a><br>"
      ],
      "text/plain": [
       "C:\\Users\\91709\\test_files.zip"
      ]
     },
     "execution_count": 6,
     "metadata": {},
     "output_type": "execute_result"
    }
   ],
   "source": [
    "from IPython.display import FileLink\n",
    "\n",
    "# Display the link to download the zip file\n",
    "FileLink('test_files.zip')\n"
   ]
  },
  {
   "cell_type": "markdown",
   "id": "73b28cac",
   "metadata": {},
   "source": [
    "## 2. Credit Card Detection\n",
    "### Import Additional Libraries"
   ]
  },
  {
   "cell_type": "code",
   "execution_count": 7,
   "id": "159e7c42",
   "metadata": {},
   "outputs": [],
   "source": [
    "import re\n",
    "from concurrent.futures import ThreadPoolExecutor\n",
    "from docx import Document\n",
    "import pdfplumber\n"
   ]
  },
  {
   "cell_type": "markdown",
   "id": "0e528d8a",
   "metadata": {},
   "source": [
    "### Credit Card Regex Pattern"
   ]
  },
  {
   "cell_type": "code",
   "execution_count": 8,
   "id": "003c4dee",
   "metadata": {},
   "outputs": [],
   "source": [
    "CREDIT_CARD_REGEX = r'\\b(?:\\d[ -]*?){13,16}\\b'\n"
   ]
  },
  {
   "cell_type": "markdown",
   "id": "c66866bc",
   "metadata": {},
   "source": [
    "### Function to Traverse Directory and Get Files"
   ]
  },
  {
   "cell_type": "code",
   "execution_count": 9,
   "id": "ff41c2f5",
   "metadata": {},
   "outputs": [],
   "source": [
    "def get_text_files(directory):\n",
    "    for root, dirs, files in os.walk(directory):\n",
    "        for file in files:\n",
    "            if file.endswith(('.txt', '.docx', '.pdf')):\n",
    "                yield os.path.join(root, file)\n"
   ]
  },
  {
   "cell_type": "markdown",
   "id": "75f3c485",
   "metadata": {},
   "source": [
    "### Function to Detect Credit Card in File Content"
   ]
  },
  {
   "cell_type": "code",
   "execution_count": 10,
   "id": "39a483e8",
   "metadata": {},
   "outputs": [],
   "source": [
    "def detect_credit_card(content):\n",
    "    return bool(re.search(CREDIT_CARD_REGEX, content))\n"
   ]
  },
  {
   "cell_type": "markdown",
   "id": "46adb2cb",
   "metadata": {},
   "source": [
    "### Functions to Extract Text from .docx and .pdf Files"
   ]
  },
  {
   "cell_type": "code",
   "execution_count": 11,
   "id": "f58aef2e",
   "metadata": {},
   "outputs": [],
   "source": [
    "def extract_text_from_docx(filepath):\n",
    "    doc = Document(filepath)\n",
    "    text = []\n",
    "    for para in doc.paragraphs:\n",
    "        text.append(para.text)\n",
    "    return \"\\n\".join(text)\n",
    "\n",
    "def extract_text_from_pdf(filepath):\n",
    "    text = []\n",
    "    with pdfplumber.open(filepath) as pdf:\n",
    "        for page in pdf.pages:\n",
    "            text.append(page.extract_text())\n",
    "    return \"\\n\".join(text)\n"
   ]
  },
  {
   "cell_type": "markdown",
   "id": "7708c2d4",
   "metadata": {},
   "source": [
    "## 3. File Reading and Processing\n",
    "### To avoid high memory usage, read large files in chunks. Here’s a way to efficiently scan through the files:"
   ]
  },
  {
   "cell_type": "code",
   "execution_count": 12,
   "id": "0c9fbfb8",
   "metadata": {},
   "outputs": [],
   "source": [
    "def read_file(filepath, chunk_size=1024):\n",
    "    ext = os.path.splitext(filepath)[1].lower()\n",
    "    if ext == '.txt':\n",
    "        with open(filepath, 'r', encoding='utf-8', errors='ignore') as file:\n",
    "            while True:\n",
    "                chunk = file.read(chunk_size)\n",
    "                if not chunk:\n",
    "                    break\n",
    "                yield chunk\n",
    "    elif ext == '.docx':\n",
    "        content = extract_text_from_docx(filepath)\n",
    "        for chunk in (content[i:i + chunk_size] for i in range(0, len(content), chunk_size)):\n",
    "            yield chunk\n",
    "    elif ext == '.pdf':\n",
    "        content = extract_text_from_pdf(filepath)\n",
    "        for chunk in (content[i:i + chunk_size] for i in range(0, len(content), chunk_size)):\n",
    "            yield chunk\n",
    "    else:\n",
    "        raise ValueError(f\"Unsupported file type: {ext}\")\n"
   ]
  },
  {
   "cell_type": "markdown",
   "id": "29df8672",
   "metadata": {},
   "source": [
    "## 4. Optimized File Scanning with Thread Pool\n",
    "### Use Python’s concurrent.futures.ThreadPoolExecutor to process multiple files in parallel. This helps distribute the CPU load efficiently"
   ]
  },
  {
   "cell_type": "code",
   "execution_count": 13,
   "id": "de9b3257",
   "metadata": {},
   "outputs": [],
   "source": [
    "def scan_file_for_credit_card(filepath, files_with_cc):\n",
    "    print(f\"Scanning {filepath}...\")\n",
    "    try:\n",
    "        for chunk in read_file(filepath):\n",
    "            if detect_credit_card(chunk):\n",
    "                print(f\"Credit card number found in {filepath}\")\n",
    "                files_with_cc.append(filepath)\n",
    "                return\n",
    "    except ValueError as e:\n",
    "        print(e)\n",
    "        \n",
    "\n",
    "def scan_files_concurrently(directory, max_workers=5):\n",
    "    files_with_cc = []\n",
    "    with ThreadPoolExecutor(max_workers=max_workers) as executor:\n",
    "        for filepath in get_text_files(directory):\n",
    "            executor.submit(scan_file_for_credit_card, filepath, files_with_cc)\n",
    "    return files_with_cc\n",
    "\n"
   ]
  },
  {
   "cell_type": "markdown",
   "id": "3d1dc97d",
   "metadata": {},
   "source": [
    "## 5. Main Execution Block"
   ]
  },
  {
   "cell_type": "code",
   "execution_count": 14,
   "id": "6de42537",
   "metadata": {},
   "outputs": [
    {
     "name": "stdout",
     "output_type": "stream",
     "text": [
      "Scanning test_files\\file_1.txt...Scanning test_files\\file_10.txt...\n",
      "\n",
      "Scanning test_files\\file_11.txt...\n",
      "Credit card number found in test_files\\file_10.txt\n",
      "Credit card number found in test_files\\file_1.txt\n",
      "Scanning test_files\\file_12.txt...\n",
      "Scanning test_files\\file_13.txt...\n",
      "Scanning test_files\\file_14.txt...\n",
      "Scanning test_files\\file_15.txt...\n",
      "Scanning test_files\\file_16.txt...\n",
      "Scanning test_files\\file_17.txt...\n",
      "Scanning test_files\\file_18.txt...\n",
      "Scanning test_files\\file_19.txt...\n",
      "Scanning test_files\\file_2.txt...\n",
      "Scanning test_files\\file_20.txt...\n",
      "Scanning test_files\\file_21.txt...\n",
      "Scanning test_files\\file_22.txt...\n",
      "Scanning test_files\\file_23.txt...\n",
      "Credit card number found in test_files\\file_2.txt\n",
      "Scanning test_files\\file_24.txt...\n",
      "Scanning test_files\\file_25.txt...\n",
      "Scanning test_files\\file_26.txt...\n",
      "Scanning test_files\\file_27.txt...\n",
      "Scanning test_files\\file_28.txt...\n",
      "Scanning test_files\\file_29.txt...\n",
      "Scanning test_files\\file_3.txt...\n",
      "Scanning test_files\\file_30.txt...\n",
      "Scanning test_files\\file_31.txt...\n",
      "Scanning test_files\\file_32.txt...\n",
      "Scanning test_files\\file_33.txt...\n",
      "Credit card number found in test_files\\file_3.txt\n",
      "Scanning test_files\\file_34.txt...\n",
      "Scanning test_files\\file_35.txt...\n",
      "Scanning test_files\\file_36.txt...\n",
      "Scanning test_files\\file_37.txt...\n",
      "Scanning test_files\\file_38.txt...\n",
      "Scanning test_files\\file_39.txt...\n",
      "Scanning test_files\\file_4.txt...\n",
      "Scanning test_files\\file_40.txt...\n",
      "Scanning test_files\\file_41.txt...\n",
      "Credit card number found in test_files\\file_4.txt\n",
      "Scanning test_files\\file_42.txt...\n",
      "Scanning test_files\\file_43.txt...\n",
      "Scanning test_files\\file_44.txt...\n",
      "Scanning test_files\\file_45.txt...\n",
      "Scanning test_files\\file_46.txt...\n",
      "Scanning test_files\\file_47.txt...\n",
      "Scanning test_files\\file_48.txt...\n",
      "Scanning test_files\\file_49.txt...\n",
      "Scanning test_files\\file_5.txt...\n",
      "Scanning test_files\\file_50.txt...\n",
      "Credit card number found in test_files\\file_5.txt\n",
      "Scanning test_files\\file_6.txt...\n",
      "Scanning test_files\\file_7.txt...\n",
      "Scanning test_files\\file_8.txt...\n",
      "Scanning test_files\\file_9.txt...\n",
      "Credit card number found in test_files\\file_8.txt\n",
      "Credit card number found in test_files\\file_6.txt\n",
      "Credit card number found in test_files\\file_7.txt\n",
      "Credit card number found in test_files\\file_9.txt\n"
     ]
    }
   ],
   "source": [
    "if __name__ == \"__main__\":\n",
    "    target_directory = 'test_files'  # Adjust to your directory path\n",
    "    files_with_credit_cards = scan_files_concurrently(target_directory)\n",
    "   \n"
   ]
  },
  {
   "cell_type": "code",
   "execution_count": 15,
   "id": "a7e6be64",
   "metadata": {},
   "outputs": [
    {
     "name": "stdout",
     "output_type": "stream",
     "text": [
      "\n",
      "Files with credit card numbers detected:\n",
      "test_files\\file_10.txt\n",
      "test_files\\file_1.txt\n",
      "test_files\\file_2.txt\n",
      "test_files\\file_3.txt\n",
      "test_files\\file_4.txt\n",
      "test_files\\file_5.txt\n",
      "test_files\\file_8.txt\n",
      "test_files\\file_6.txt\n",
      "test_files\\file_7.txt\n",
      "test_files\\file_9.txt\n"
     ]
    }
   ],
   "source": [
    "# Print out the list of files that contain credit card numbers\n",
    "print(\"\\nFiles with credit card numbers detected:\")\n",
    "for file in files_with_credit_cards:\n",
    "        print(file)"
   ]
  },
  {
   "cell_type": "markdown",
   "id": "ebee3c7f",
   "metadata": {},
   "source": [
    "## 6. Putting It All Together\n",
    "### Here’s how the full script would look:"
   ]
  },
  {
   "cell_type": "code",
   "execution_count": 16,
   "id": "8d6c2bc4",
   "metadata": {},
   "outputs": [
    {
     "name": "stdout",
     "output_type": "stream",
     "text": [
      "50 files created successfully in test_files\n",
      "Files zipped to test_files.zip\n",
      "Scanning test_files\\file_1.txt...\n",
      "Credit card number found in test_files\\file_1.txt\n",
      "Scanning test_files\\file_10.txt...\n",
      "Credit card number found in test_files\\file_10.txt\n",
      "Scanning test_files\\file_11.txt...\n",
      "Scanning test_files\\file_12.txt...\n",
      "Scanning test_files\\file_13.txt...\n",
      "Scanning test_files\\file_14.txt...\n",
      "Scanning test_files\\file_15.txt...\n",
      "Scanning test_files\\file_16.txt...\n",
      "Scanning test_files\\file_17.txt...\n",
      "Scanning test_files\\file_18.txt...\n",
      "Scanning test_files\\file_19.txt...\n",
      "Scanning test_files\\file_2.txt...\n",
      "Scanning test_files\\file_20.txt...\n",
      "Scanning test_files\\file_21.txt...\n",
      "Scanning test_files\\file_22.txt...\n",
      "Credit card number found in test_files\\file_2.txt\n",
      "Scanning test_files\\file_23.txt...\n",
      "Scanning test_files\\file_24.txt...\n",
      "Scanning test_files\\file_25.txt...\n",
      "Scanning test_files\\file_26.txt...\n",
      "Scanning test_files\\file_27.txt...\n",
      "Scanning test_files\\file_28.txt...\n",
      "Scanning test_files\\file_29.txt...\n",
      "Scanning test_files\\file_3.txt...\n",
      "Scanning test_files\\file_30.txt...\n",
      "Credit card number found in test_files\\file_3.txt\n",
      "Scanning test_files\\file_31.txt...\n",
      "Scanning test_files\\file_32.txt...\n",
      "Scanning test_files\\file_33.txt...\n",
      "Scanning test_files\\file_34.txt...\n",
      "Scanning test_files\\file_35.txt...\n",
      "Scanning test_files\\file_36.txt...\n",
      "Scanning test_files\\file_37.txt...\n",
      "Scanning test_files\\file_38.txt...\n",
      "Scanning test_files\\file_39.txt...\n",
      "Scanning test_files\\file_4.txt...\n",
      "Scanning test_files\\file_40.txt...\n",
      "Scanning test_files\\file_41.txt...\n",
      "Scanning test_files\\file_42.txt...\n",
      "Credit card number found in test_files\\file_4.txt\n",
      "Scanning test_files\\file_43.txt...\n",
      "Scanning test_files\\file_44.txt...\n",
      "Scanning test_files\\file_45.txt...\n",
      "Scanning test_files\\file_46.txt...\n",
      "Scanning test_files\\file_47.txt...\n",
      "Scanning test_files\\file_48.txt...\n",
      "Scanning test_files\\file_49.txt...\n",
      "Scanning test_files\\file_5.txt...\n",
      "Scanning test_files\\file_50.txt...\n",
      "Scanning test_files\\file_6.txt...\n",
      "Credit card number found in test_files\\file_5.txt\n",
      "Scanning test_files\\file_7.txt...\n",
      "Scanning test_files\\file_8.txt...\n",
      "Scanning test_files\\file_9.txt...\n",
      "Credit card number found in test_files\\file_6.txt\n",
      "Credit card number found in test_files\\file_7.txt\n",
      "Credit card number found in test_files\\file_8.txt\n",
      "Credit card number found in test_files\\file_9.txt\n",
      "\n",
      "Files with credit card numbers detected:\n",
      "test_files\\file_1.txt\n",
      "test_files\\file_10.txt\n",
      "test_files\\file_2.txt\n",
      "test_files\\file_3.txt\n",
      "test_files\\file_4.txt\n",
      "test_files\\file_5.txt\n",
      "test_files\\file_6.txt\n",
      "test_files\\file_7.txt\n",
      "test_files\\file_8.txt\n",
      "test_files\\file_9.txt\n"
     ]
    }
   ],
   "source": [
    "import os\n",
    "import random\n",
    "import string\n",
    "import zipfile\n",
    "\n",
    "directory = 'test_files'\n",
    "\n",
    "valid_credit_cards = [\n",
    "    \"4539 1488 0343 6467\", \"4716 6017 4402 1937\", \"4485 2357 2346 1636\",\n",
    "    \"6011 1111 1111 1117\", \"6011 4432 3422 3456\", \"3782 822463 10005\",\n",
    "    \"3714 496353 98431\", \"3056 930902 5904\", \"3852 000002 32323\", \n",
    "    \"3530 111333 000000\", \"5555 5555 5555 4444\"\n",
    "]\n",
    "\n",
    "def generate_random_text(size):\n",
    "    return ''.join(random.choices(string.ascii_letters + string.digits + ' ', k=size))\n",
    "\n",
    "def create_sample_files(directory, num_files=50, cc_percentage=20):\n",
    "    if not os.path.exists(directory):\n",
    "        os.makedirs(directory)\n",
    "\n",
    "    num_files_with_cc = int(num_files * (cc_percentage / 100))\n",
    "    for i in range(1, num_files + 1):\n",
    "        filename = f\"file_{i}.txt\"\n",
    "        filepath = os.path.join(directory, filename)\n",
    "        \n",
    "        # Decide whether to insert a credit card number in the file\n",
    "        if i <= num_files_with_cc:\n",
    "            # Insert credit card number with some random text\n",
    "            content = generate_random_text(1000) + \"\\n\" + random.choice(valid_credit_cards) + \"\\n\" + generate_random_text(1000)\n",
    "        else:\n",
    "            # Insert only random text\n",
    "            content = generate_random_text(2000)\n",
    "        \n",
    "        # Write the content to the file\n",
    "        with open(filepath, 'w') as f:\n",
    "            f.write(content)\n",
    "\n",
    "    print(f\"{num_files} files created successfully in {directory}\")\n",
    "    \n",
    "# Function to zip the directory\n",
    "def zip_directory(directory, zip_file_path):\n",
    "    with zipfile.ZipFile(zip_file_path, 'w') as zip_file:\n",
    "        for foldername, subfolders, filenames in os.walk(directory):\n",
    "            for filename in filenames:\n",
    "                file_path = os.path.join(foldername, filename)\n",
    "                zip_file.write(file_path, os.path.relpath(file_path, directory))\n",
    "\n",
    "    print(f\"Files zipped to {zip_file_path}\")\n",
    "\n",
    "# Create 50 test files with 20% containing credit card numbers\n",
    "create_sample_files(directory)\n",
    "\n",
    "# Zip the test_files directory\n",
    "zip_directory(directory, 'test_files.zip')\n",
    "\n",
    "\n",
    "from IPython.display import FileLink\n",
    "\n",
    "# Display the link to download the zip file\n",
    "FileLink('test_files.zip')\n",
    "\n",
    "\n",
    "import re\n",
    "from concurrent.futures import ThreadPoolExecutor\n",
    "from docx import Document\n",
    "import pdfplumber\n",
    "\n",
    "CREDIT_CARD_REGEX = r'\\b(?:\\d[ -]*?){13,16}\\b'\n",
    "\n",
    "def get_text_files(directory):\n",
    "    for root, dirs, files in os.walk(directory):\n",
    "        for file in files:\n",
    "            if file.endswith(('.txt', '.docx', '.pdf')):\n",
    "                yield os.path.join(root, file)\n",
    "\n",
    "            \n",
    "\n",
    "def detect_credit_card(content):\n",
    "    return bool(re.search(CREDIT_CARD_REGEX, content))\n",
    "\n",
    "\n",
    "def extract_text_from_docx(filepath):\n",
    "    doc = Document(filepath)\n",
    "    text = []\n",
    "    for para in doc.paragraphs:\n",
    "        text.append(para.text)\n",
    "    return \"\\n\".join(text)\n",
    "\n",
    "def extract_text_from_pdf(filepath):\n",
    "    text = []\n",
    "    with pdfplumber.open(filepath) as pdf:\n",
    "        for page in pdf.pages:\n",
    "            text.append(page.extract_text())\n",
    "    return \"\\n\".join(text)\n",
    "\n",
    "\n",
    "def read_file(filepath, chunk_size=1024):\n",
    "    ext = os.path.splitext(filepath)[1].lower()\n",
    "    if ext == '.txt':\n",
    "        with open(filepath, 'r', encoding='utf-8', errors='ignore') as file:\n",
    "            while True:\n",
    "                chunk = file.read(chunk_size)\n",
    "                if not chunk:\n",
    "                    break\n",
    "                yield chunk\n",
    "    elif ext == '.docx':\n",
    "        content = extract_text_from_docx(filepath)\n",
    "        for chunk in (content[i:i + chunk_size] for i in range(0, len(content), chunk_size)):\n",
    "            yield chunk\n",
    "    elif ext == '.pdf':\n",
    "        content = extract_text_from_pdf(filepath)\n",
    "        for chunk in (content[i:i + chunk_size] for i in range(0, len(content), chunk_size)):\n",
    "            yield chunk\n",
    "    else:\n",
    "        raise ValueError(f\"Unsupported file type: {ext}\")\n",
    "        \n",
    "        \n",
    "def scan_file_for_credit_card(filepath, files_with_cc):\n",
    "    print(f\"Scanning {filepath}...\")\n",
    "    try:\n",
    "        for chunk in read_file(filepath):\n",
    "            if detect_credit_card(chunk):\n",
    "                print(f\"Credit card number found in {filepath}\")\n",
    "                files_with_cc.append(filepath)\n",
    "                return\n",
    "    except ValueError as e:\n",
    "        print(e)\n",
    "        \n",
    "\n",
    "def scan_files_concurrently(directory, max_workers=5):\n",
    "    files_with_cc = []\n",
    "    with ThreadPoolExecutor(max_workers=max_workers) as executor:\n",
    "        for filepath in get_text_files(directory):\n",
    "            executor.submit(scan_file_for_credit_card, filepath, files_with_cc)\n",
    "    return files_with_cc\n",
    "\n",
    "\n",
    "if __name__ == \"__main__\":\n",
    "    target_directory = 'test_files'  # Adjust to your directory path\n",
    "    files_with_credit_cards = scan_files_concurrently(target_directory)\n",
    "   \n",
    "# Print out the list of files that contain credit card numbers\n",
    "print(\"\\nFiles with credit card numbers detected:\")\n",
    "for file in files_with_credit_cards:\n",
    "        print(file)\n",
    "\n",
    "\n",
    "\n",
    "\n"
   ]
  },
  {
   "cell_type": "code",
   "execution_count": null,
   "id": "a8beafd1",
   "metadata": {},
   "outputs": [],
   "source": []
  }
 ],
 "metadata": {
  "kernelspec": {
   "display_name": "Python 3 (ipykernel)",
   "language": "python",
   "name": "python3"
  },
  "language_info": {
   "codemirror_mode": {
    "name": "ipython",
    "version": 3
   },
   "file_extension": ".py",
   "mimetype": "text/x-python",
   "name": "python",
   "nbconvert_exporter": "python",
   "pygments_lexer": "ipython3",
   "version": "3.10.9"
  }
 },
 "nbformat": 4,
 "nbformat_minor": 5
}
